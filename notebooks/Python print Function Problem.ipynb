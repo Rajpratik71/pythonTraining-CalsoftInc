{
 "cells": [
  {
   "cell_type": "markdown",
   "metadata": {},
   "source": [
    "## Print Function"
   ]
  },
  {
   "cell_type": "raw",
   "metadata": {},
   "source": [
    "In Python 2, the default print is a simple IO method that doesn't give many options to play around with.\n",
    "\n",
    "The following two examples will summarize it.\n",
    "\n",
    "Example 1:\n",
    "\n",
    "var, var1, var2 = 1,2,3\n",
    "print var\n",
    "print var1, var2 \n",
    "Prints two lines and, in the second line,  and  are separated by a single space.\n",
    "\n",
    "Example 2:\n",
    "\n",
    "for i in xrange(10):\n",
    "    print i,\n",
    "Prints each element separated by space on a single line. Removing the comma at the end will print each element on a new line.\n",
    "\n",
    "Let's import the advanced print_function from the __future__ module.\n",
    "\n",
    "Its method signature is below:\n",
    "\n",
    "print(*values, sep=' ', end='\\n', file=sys.stdout)\n",
    "print(value1, value2, value3, sep=' ', end='\\n', file=sys.stdout)\n",
    "Here, values is an array and *values means array is unpacked, you can add values separated by a comma too. The arguments sep, end, and file are optional, but they can prove helpful in formatting output without taking help from a string module.\n",
    "\n",
    "The argument definitions are below:\n",
    "sep defines the delimiter between the values.\n",
    "end defines what to print after the values.\n",
    "file defines the output stream.\n",
    "\n",
    "in Python 2 print_function is much faster than the default print"
   ]
  },
  {
   "cell_type": "markdown",
   "metadata": {},
   "source": [
    "## Problem Statement :"
   ]
  },
  {
   "cell_type": "raw",
   "metadata": {},
   "source": [
    "Read an integer .\n",
    "\n",
    "Without using any string methods, try to print the following:\n",
    "\n",
    "\n",
    "Note that \"\" represents the values in between.\n",
    "\n",
    "Input Format\n",
    "\n",
    "The first line contains an integer .\n",
    "\n",
    "Output Format\n",
    "\n",
    "Output the answer as explained in the task.\n",
    "\n",
    "Sample Input 0\n",
    "\n",
    "3\n",
    "Sample Output 0\n",
    "\n",
    "123"
   ]
  },
  {
   "cell_type": "markdown",
   "metadata": {},
   "source": [
    "## Solution :"
   ]
  },
  {
   "cell_type": "code",
   "execution_count": 1,
   "metadata": {},
   "outputs": [
    {
     "name": "stdout",
     "output_type": "stream",
     "text": [
      "3\n",
      "123\n"
     ]
    }
   ],
   "source": [
    "if __name__ == '__main__':\n",
    "    n = int(input())\n",
    "    print(*range(1, n + 1), sep=\"\")"
   ]
  },
  {
   "cell_type": "code",
   "execution_count": null,
   "metadata": {},
   "outputs": [],
   "source": []
  }
 ],
 "metadata": {
  "kernelspec": {
   "display_name": "Python 3",
   "language": "python",
   "name": "python3"
  },
  "language_info": {
   "codemirror_mode": {
    "name": "ipython",
    "version": 3
   },
   "file_extension": ".py",
   "mimetype": "text/x-python",
   "name": "python",
   "nbconvert_exporter": "python",
   "pygments_lexer": "ipython3",
   "version": "3.7.3"
  }
 },
 "nbformat": 4,
 "nbformat_minor": 2
}
