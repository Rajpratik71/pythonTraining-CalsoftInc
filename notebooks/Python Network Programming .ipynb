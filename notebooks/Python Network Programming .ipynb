{
 "cells": [
  {
   "cell_type": "code",
   "execution_count": 3,
   "metadata": {},
   "outputs": [],
   "source": [
    "import socket"
   ]
  },
  {
   "cell_type": "code",
   "execution_count": 5,
   "metadata": {},
   "outputs": [
    {
     "data": {
      "text/plain": [
       "['AF_APPLETALK',\n",
       " 'AF_DECnet',\n",
       " 'AF_INET',\n",
       " 'AF_INET6',\n",
       " 'AF_IPX',\n",
       " 'AF_IRDA',\n",
       " 'AF_SNA',\n",
       " 'AF_UNSPEC',\n",
       " 'AI_ADDRCONFIG',\n",
       " 'AI_ALL',\n",
       " 'AI_CANONNAME',\n",
       " 'AI_NUMERICHOST',\n",
       " 'AI_NUMERICSERV',\n",
       " 'AI_PASSIVE',\n",
       " 'AI_V4MAPPED',\n",
       " 'AddressFamily',\n",
       " 'AddressInfo',\n",
       " 'CAPI',\n",
       " 'EAGAIN',\n",
       " 'EAI_AGAIN',\n",
       " 'EAI_BADFLAGS',\n",
       " 'EAI_FAIL',\n",
       " 'EAI_FAMILY',\n",
       " 'EAI_MEMORY',\n",
       " 'EAI_NODATA',\n",
       " 'EAI_NONAME',\n",
       " 'EAI_SERVICE',\n",
       " 'EAI_SOCKTYPE',\n",
       " 'EBADF',\n",
       " 'EWOULDBLOCK',\n",
       " 'INADDR_ALLHOSTS_GROUP',\n",
       " 'INADDR_ANY',\n",
       " 'INADDR_BROADCAST',\n",
       " 'INADDR_LOOPBACK',\n",
       " 'INADDR_MAX_LOCAL_GROUP',\n",
       " 'INADDR_NONE',\n",
       " 'INADDR_UNSPEC_GROUP',\n",
       " 'IPPORT_RESERVED',\n",
       " 'IPPORT_USERRESERVED',\n",
       " 'IPPROTO_ICMP',\n",
       " 'IPPROTO_IP',\n",
       " 'IPPROTO_RAW',\n",
       " 'IPPROTO_TCP',\n",
       " 'IPPROTO_UDP',\n",
       " 'IPV6_CHECKSUM',\n",
       " 'IPV6_DONTFRAG',\n",
       " 'IPV6_HOPLIMIT',\n",
       " 'IPV6_HOPOPTS',\n",
       " 'IPV6_JOIN_GROUP',\n",
       " 'IPV6_LEAVE_GROUP',\n",
       " 'IPV6_MULTICAST_HOPS',\n",
       " 'IPV6_MULTICAST_IF',\n",
       " 'IPV6_MULTICAST_LOOP',\n",
       " 'IPV6_PKTINFO',\n",
       " 'IPV6_RECVRTHDR',\n",
       " 'IPV6_RECVTCLASS',\n",
       " 'IPV6_RTHDR',\n",
       " 'IPV6_TCLASS',\n",
       " 'IPV6_UNICAST_HOPS',\n",
       " 'IPV6_V6ONLY',\n",
       " 'IP_ADD_MEMBERSHIP',\n",
       " 'IP_DROP_MEMBERSHIP',\n",
       " 'IP_HDRINCL',\n",
       " 'IP_MULTICAST_IF',\n",
       " 'IP_MULTICAST_LOOP',\n",
       " 'IP_MULTICAST_TTL',\n",
       " 'IP_OPTIONS',\n",
       " 'IP_RECVDSTADDR',\n",
       " 'IP_TOS',\n",
       " 'IP_TTL',\n",
       " 'IntEnum',\n",
       " 'IntFlag',\n",
       " 'MSG_BCAST',\n",
       " 'MSG_CTRUNC',\n",
       " 'MSG_DONTROUTE',\n",
       " 'MSG_ERRQUEUE',\n",
       " 'MSG_MCAST',\n",
       " 'MSG_OOB',\n",
       " 'MSG_PEEK',\n",
       " 'MSG_TRUNC',\n",
       " 'MSG_WAITALL',\n",
       " 'MsgFlag',\n",
       " 'NI_DGRAM',\n",
       " 'NI_MAXHOST',\n",
       " 'NI_MAXSERV',\n",
       " 'NI_NAMEREQD',\n",
       " 'NI_NOFQDN',\n",
       " 'NI_NUMERICHOST',\n",
       " 'NI_NUMERICSERV',\n",
       " 'RCVALL_MAX',\n",
       " 'RCVALL_OFF',\n",
       " 'RCVALL_ON',\n",
       " 'RCVALL_SOCKETLEVELONLY',\n",
       " 'SHUT_RD',\n",
       " 'SHUT_RDWR',\n",
       " 'SHUT_WR',\n",
       " 'SIO_KEEPALIVE_VALS',\n",
       " 'SIO_LOOPBACK_FAST_PATH',\n",
       " 'SIO_RCVALL',\n",
       " 'SOCK_DGRAM',\n",
       " 'SOCK_RAW',\n",
       " 'SOCK_RDM',\n",
       " 'SOCK_SEQPACKET',\n",
       " 'SOCK_STREAM',\n",
       " 'SOL_IP',\n",
       " 'SOL_SOCKET',\n",
       " 'SOL_TCP',\n",
       " 'SOL_UDP',\n",
       " 'SOMAXCONN',\n",
       " 'SO_ACCEPTCONN',\n",
       " 'SO_BROADCAST',\n",
       " 'SO_DEBUG',\n",
       " 'SO_DONTROUTE',\n",
       " 'SO_ERROR',\n",
       " 'SO_EXCLUSIVEADDRUSE',\n",
       " 'SO_KEEPALIVE',\n",
       " 'SO_LINGER',\n",
       " 'SO_OOBINLINE',\n",
       " 'SO_RCVBUF',\n",
       " 'SO_RCVLOWAT',\n",
       " 'SO_RCVTIMEO',\n",
       " 'SO_REUSEADDR',\n",
       " 'SO_SNDBUF',\n",
       " 'SO_SNDLOWAT',\n",
       " 'SO_SNDTIMEO',\n",
       " 'SO_TYPE',\n",
       " 'SO_USELOOPBACK',\n",
       " 'SocketIO',\n",
       " 'SocketKind',\n",
       " 'SocketType',\n",
       " 'TCP_FASTOPEN',\n",
       " 'TCP_KEEPCNT',\n",
       " 'TCP_KEEPIDLE',\n",
       " 'TCP_KEEPINTVL',\n",
       " 'TCP_MAXSEG',\n",
       " 'TCP_NODELAY',\n",
       " '_GLOBAL_DEFAULT_TIMEOUT',\n",
       " '_GiveupOnSendfile',\n",
       " '_LOCALHOST',\n",
       " '_LOCALHOST_V6',\n",
       " '__all__',\n",
       " '__builtins__',\n",
       " '__cached__',\n",
       " '__doc__',\n",
       " '__file__',\n",
       " '__loader__',\n",
       " '__name__',\n",
       " '__package__',\n",
       " '__spec__',\n",
       " '_blocking_errnos',\n",
       " '_intenum_converter',\n",
       " '_realsocket',\n",
       " '_socket',\n",
       " 'close',\n",
       " 'create_connection',\n",
       " 'dup',\n",
       " 'errno',\n",
       " 'error',\n",
       " 'errorTab',\n",
       " 'fromfd',\n",
       " 'fromshare',\n",
       " 'gaierror',\n",
       " 'getaddrinfo',\n",
       " 'getdefaulttimeout',\n",
       " 'getfqdn',\n",
       " 'gethostbyaddr',\n",
       " 'gethostbyname',\n",
       " 'gethostbyname_ex',\n",
       " 'gethostname',\n",
       " 'getnameinfo',\n",
       " 'getprotobyname',\n",
       " 'getservbyname',\n",
       " 'getservbyport',\n",
       " 'has_ipv6',\n",
       " 'herror',\n",
       " 'htonl',\n",
       " 'htons',\n",
       " 'inet_aton',\n",
       " 'inet_ntoa',\n",
       " 'inet_ntop',\n",
       " 'inet_pton',\n",
       " 'io',\n",
       " 'ntohl',\n",
       " 'ntohs',\n",
       " 'os',\n",
       " 'selectors',\n",
       " 'setdefaulttimeout',\n",
       " 'socket',\n",
       " 'socketpair',\n",
       " 'sys',\n",
       " 'timeout']"
      ]
     },
     "execution_count": 5,
     "metadata": {},
     "output_type": "execute_result"
    }
   ],
   "source": [
    "dir(socket)"
   ]
  },
  {
   "cell_type": "markdown",
   "metadata": {},
   "source": [
    "Resolving a hostname or web address"
   ]
  },
  {
   "cell_type": "markdown",
   "metadata": {},
   "source": [
    " Pass a hostname as a string like 'dsu.edu' into this method to have the socket library resolve the domain name dsu.edu into an IP address"
   ]
  },
  {
   "cell_type": "code",
   "execution_count": 7,
   "metadata": {},
   "outputs": [
    {
     "data": {
      "text/plain": [
       "builtin_function_or_method"
      ]
     },
     "execution_count": 7,
     "metadata": {},
     "output_type": "execute_result"
    }
   ],
   "source": [
    "type(socket.gethostbyname)"
   ]
  },
  {
   "cell_type": "code",
   "execution_count": 13,
   "metadata": {},
   "outputs": [
    {
     "data": {
      "text/plain": [
       "'157.240.7.35'"
      ]
     },
     "execution_count": 13,
     "metadata": {},
     "output_type": "execute_result"
    }
   ],
   "source": [
    "socket.gethostbyname('www.fb.com')"
   ]
  },
  {
   "cell_type": "code",
   "execution_count": 19,
   "metadata": {},
   "outputs": [],
   "source": [
    "ip = socket.gethostbyname('www.fb.com')"
   ]
  },
  {
   "cell_type": "markdown",
   "metadata": {},
   "source": [
    "Pass an IP address as a string like '138.247.65.57' into this method to have the socket library find the hostname  for the IP address."
   ]
  },
  {
   "cell_type": "code",
   "execution_count": 16,
   "metadata": {},
   "outputs": [
    {
     "data": {
      "text/plain": [
       "builtin_function_or_method"
      ]
     },
     "execution_count": 16,
     "metadata": {},
     "output_type": "execute_result"
    }
   ],
   "source": [
    "type(socket.gethostbyaddr)"
   ]
  },
  {
   "cell_type": "code",
   "execution_count": 18,
   "metadata": {},
   "outputs": [
    {
     "data": {
      "text/plain": [
       "('edge-star-mini-shv-01-sin6.facebook.com', [], ['157.240.7.35'])"
      ]
     },
     "execution_count": 18,
     "metadata": {},
     "output_type": "execute_result"
    }
   ],
   "source": [
    "socket.gethostbyaddr(ip)"
   ]
  },
  {
   "cell_type": "markdown",
   "metadata": {},
   "source": [
    "socket.socket(address_type, protocol_type): Use this method to define a socket object. Is is important \n",
    "to define the address type, and the protocol to be used for communication. An example to define an IPv4 TCP socket would be: "
   ]
  },
  {
   "cell_type": "code",
   "execution_count": 31,
   "metadata": {},
   "outputs": [
    {
     "ename": "NameError",
     "evalue": "name 'Ipv4' is not defined",
     "output_type": "error",
     "traceback": [
      "\u001b[1;31m---------------------------------------------------------------------------\u001b[0m",
      "\u001b[1;31mNameError\u001b[0m                                 Traceback (most recent call last)",
      "\u001b[1;32m<ipython-input-31-32d52ab93fe8>\u001b[0m in \u001b[0;36m<module>\u001b[1;34m\u001b[0m\n\u001b[1;32m----> 1\u001b[1;33m \u001b[0mPPPmyTCPSocket\u001b[0m \u001b[1;33m=\u001b[0m \u001b[0msocket\u001b[0m\u001b[1;33m.\u001b[0m\u001b[0msocket\u001b[0m\u001b[1;33m(\u001b[0m\u001b[0msocket\u001b[0m\u001b[1;33m.\u001b[0m\u001b[0mAF_INET\u001b[0m\u001b[1;33m(\u001b[0m\u001b[0mIpv4\u001b[0m\u001b[1;33m)\u001b[0m\u001b[1;33m,\u001b[0m\u001b[0msocket\u001b[0m\u001b[1;33m.\u001b[0m\u001b[0mSOCK_STREAM\u001b[0m\u001b[1;33m)\u001b[0m\u001b[1;33m\u001b[0m\u001b[1;33m\u001b[0m\u001b[0m\n\u001b[0m",
      "\u001b[1;31mNameError\u001b[0m: name 'Ipv4' is not defined"
     ]
    }
   ],
   "source": [
    "PPPmyTCPSocket = socket.socket(socket.AF_INET(),socket.SOCK_STREAM) "
   ]
  },
  {
   "cell_type": "markdown",
   "metadata": {},
   "source": [
    "Piggybacking off of the above example. Once you have defined what type of socket you want to utilize, you need to connect to the destination. Here, you pass the ip_address and port_number together as a pair to connect. The (( and )) are not typos and you must type this to successfully connect. A working example to connect to the DSU.EDU Webserver would be: "
   ]
  },
  {
   "cell_type": "code",
   "execution_count": 24,
   "metadata": {},
   "outputs": [],
   "source": [
    "myTCPSocket.connect(('138.247.65.57',80))"
   ]
  },
  {
   "cell_type": "markdown",
   "metadata": {},
   "source": [
    "myTCPSocket.sendall(string): piggybacking off of the above example. Once the myTCPSocket.connect() method has been called, you can now send any string you want through the socket. This literally means you are sending data to the other machine!!! A working example of this would be: "
   ]
  },
  {
   "cell_type": "code",
   "execution_count": 26,
   "metadata": {},
   "outputs": [
    {
     "ename": "TypeError",
     "evalue": "a bytes-like object is required, not 'str'",
     "output_type": "error",
     "traceback": [
      "\u001b[1;31m---------------------------------------------------------------------------\u001b[0m",
      "\u001b[1;31mTypeError\u001b[0m                                 Traceback (most recent call last)",
      "\u001b[1;32m<ipython-input-26-67a1883f36a5>\u001b[0m in \u001b[0;36m<module>\u001b[1;34m\u001b[0m\n\u001b[1;32m----> 1\u001b[1;33m \u001b[0mmyTCPSocket\u001b[0m\u001b[1;33m.\u001b[0m\u001b[0msendall\u001b[0m\u001b[1;33m(\u001b[0m\u001b[1;34m'Is anyone there?'\u001b[0m\u001b[1;33m)\u001b[0m\u001b[1;33m\u001b[0m\u001b[1;33m\u001b[0m\u001b[0m\n\u001b[0m",
      "\u001b[1;31mTypeError\u001b[0m: a bytes-like object is required, not 'str'"
     ]
    }
   ],
   "source": [
    " myTCPSocket.sendall('Is anyone there?')"
   ]
  },
  {
   "cell_type": "markdown",
   "metadata": {},
   "source": [
    "myTCPSocket.recv(#ofdatapackets): piggybacking off of the above example. Once the myTCPSocket.sendall() method succeeds, you now have the opportunity to capture what message is sent back from the destination. Make sure that the #ofdatapackets is a number between 1 and 65535 A working example of this would be:"
   ]
  },
  {
   "cell_type": "code",
   "execution_count": 29,
   "metadata": {},
   "outputs": [],
   "source": [
    "receivedData = myTCPSocket.recv(1024)"
   ]
  },
  {
   "cell_type": "markdown",
   "metadata": {},
   "source": [
    "The common values used in socket.socket() method for the address_type variable."
   ]
  },
  {
   "cell_type": "code",
   "execution_count": 30,
   "metadata": {},
   "outputs": [
    {
     "ename": "NameError",
     "evalue": "name 'IPv4' is not defined",
     "output_type": "error",
     "traceback": [
      "\u001b[1;31m---------------------------------------------------------------------------\u001b[0m",
      "\u001b[1;31mNameError\u001b[0m                                 Traceback (most recent call last)",
      "\u001b[1;32m<ipython-input-30-7a376c39cb05>\u001b[0m in \u001b[0;36m<module>\u001b[1;34m\u001b[0m\n\u001b[1;32m----> 1\u001b[1;33m \u001b[0msocket\u001b[0m\u001b[1;33m.\u001b[0m\u001b[0mAF_INET\u001b[0m \u001b[1;33m(\u001b[0m\u001b[0mIPv4\u001b[0m\u001b[1;33m)\u001b[0m\u001b[1;33m\u001b[0m\u001b[1;33m\u001b[0m\u001b[0m\n\u001b[0m",
      "\u001b[1;31mNameError\u001b[0m: name 'IPv4' is not defined"
     ]
    }
   ],
   "source": [
    "socket.AF_INET (IPv4)"
   ]
  },
  {
   "cell_type": "code",
   "execution_count": 32,
   "metadata": {},
   "outputs": [
    {
     "ename": "NameError",
     "evalue": "name 'Ipv6' is not defined",
     "output_type": "error",
     "traceback": [
      "\u001b[1;31m---------------------------------------------------------------------------\u001b[0m",
      "\u001b[1;31mNameError\u001b[0m                                 Traceback (most recent call last)",
      "\u001b[1;32m<ipython-input-32-2f560d4ce4c2>\u001b[0m in \u001b[0;36m<module>\u001b[1;34m\u001b[0m\n\u001b[1;32m----> 1\u001b[1;33m \u001b[0msocket\u001b[0m\u001b[1;33m.\u001b[0m\u001b[0mAF_INET6\u001b[0m \u001b[1;33m(\u001b[0m\u001b[0mIpv6\u001b[0m\u001b[1;33m)\u001b[0m\u001b[1;33m\u001b[0m\u001b[1;33m\u001b[0m\u001b[0m\n\u001b[0m",
      "\u001b[1;31mNameError\u001b[0m: name 'Ipv6' is not defined"
     ]
    }
   ],
   "source": [
    " socket.AF_INET6 (Ipv6)"
   ]
  },
  {
   "cell_type": "markdown",
   "metadata": {},
   "source": [
    "The common values used in the socket.socket() method for the protocol_type variable."
   ]
  },
  {
   "cell_type": "code",
   "execution_count": 33,
   "metadata": {},
   "outputs": [
    {
     "ename": "NameError",
     "evalue": "name 'TCP' is not defined",
     "output_type": "error",
     "traceback": [
      "\u001b[1;31m---------------------------------------------------------------------------\u001b[0m",
      "\u001b[1;31mNameError\u001b[0m                                 Traceback (most recent call last)",
      "\u001b[1;32m<ipython-input-33-e5cf130c7eff>\u001b[0m in \u001b[0;36m<module>\u001b[1;34m\u001b[0m\n\u001b[1;32m----> 1\u001b[1;33m \u001b[0msocket\u001b[0m\u001b[1;33m.\u001b[0m\u001b[0mSOCK_STREAM\u001b[0m \u001b[1;33m(\u001b[0m\u001b[0mTCP\u001b[0m\u001b[1;33m)\u001b[0m\u001b[1;33m\u001b[0m\u001b[1;33m\u001b[0m\u001b[0m\n\u001b[0m",
      "\u001b[1;31mNameError\u001b[0m: name 'TCP' is not defined"
     ]
    }
   ],
   "source": [
    "socket.SOCK_STREAM (TCP)"
   ]
  },
  {
   "cell_type": "code",
   "execution_count": 34,
   "metadata": {},
   "outputs": [
    {
     "ename": "NameError",
     "evalue": "name 'UDP' is not defined",
     "output_type": "error",
     "traceback": [
      "\u001b[1;31m---------------------------------------------------------------------------\u001b[0m",
      "\u001b[1;31mNameError\u001b[0m                                 Traceback (most recent call last)",
      "\u001b[1;32m<ipython-input-34-d3e4f146ec46>\u001b[0m in \u001b[0;36m<module>\u001b[1;34m\u001b[0m\n\u001b[1;32m----> 1\u001b[1;33m \u001b[0msocket\u001b[0m\u001b[1;33m.\u001b[0m\u001b[0mSOCK_DGRAM\u001b[0m \u001b[1;33m(\u001b[0m\u001b[0mUDP\u001b[0m\u001b[1;33m)\u001b[0m\u001b[1;33m\u001b[0m\u001b[1;33m\u001b[0m\u001b[0m\n\u001b[0m",
      "\u001b[1;31mNameError\u001b[0m: name 'UDP' is not defined"
     ]
    }
   ],
   "source": [
    " socket.SOCK_DGRAM (UDP)"
   ]
  },
  {
   "cell_type": "code",
   "execution_count": 35,
   "metadata": {},
   "outputs": [
    {
     "ename": "NameError",
     "evalue": "name 'Special' is not defined",
     "output_type": "error",
     "traceback": [
      "\u001b[1;31m---------------------------------------------------------------------------\u001b[0m",
      "\u001b[1;31mNameError\u001b[0m                                 Traceback (most recent call last)",
      "\u001b[1;32m<ipython-input-35-b01ca823abb8>\u001b[0m in \u001b[0;36m<module>\u001b[1;34m\u001b[0m\n\u001b[1;32m----> 1\u001b[1;33m \u001b[0msocket\u001b[0m\u001b[1;33m.\u001b[0m\u001b[0mSOCK_RAW\u001b[0m \u001b[1;33m(\u001b[0m\u001b[0mSpecial\u001b[0m\u001b[1;33m)\u001b[0m\u001b[1;33m\u001b[0m\u001b[1;33m\u001b[0m\u001b[0m\n\u001b[0m",
      "\u001b[1;31mNameError\u001b[0m: name 'Special' is not defined"
     ]
    }
   ],
   "source": [
    " socket.SOCK_RAW (Special)"
   ]
  },
  {
   "cell_type": "code",
   "execution_count": null,
   "metadata": {},
   "outputs": [],
   "source": []
  }
 ],
 "metadata": {
  "kernelspec": {
   "display_name": "Python 3",
   "language": "python",
   "name": "python3"
  },
  "language_info": {
   "codemirror_mode": {
    "name": "ipython",
    "version": 3
   },
   "file_extension": ".py",
   "mimetype": "text/x-python",
   "name": "python",
   "nbconvert_exporter": "python",
   "pygments_lexer": "ipython3",
   "version": "3.7.3"
  }
 },
 "nbformat": 4,
 "nbformat_minor": 2
}
